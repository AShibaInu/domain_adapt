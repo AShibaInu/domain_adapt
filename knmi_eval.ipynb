{
 "cells": [
  {
   "cell_type": "markdown",
   "metadata": {},
   "source": [
    "## Fog Density Classification and Generalization Capacity of Convolutional Neural Networks\n",
    "\n",
    "In this notebook I evaluate the performance of the Inception v3 convolutional neural network that has been trained on De Bilt and Cabauw datasets. I test their intra-site performance, but also their inter-site performance to see how well this network generalizes over a small domain shift. \n",
    "\n",
    "In this notebook I dedicate a small section to the k-Nearest Neighbors algorithm. This algorithm simply looks at the distances between images and predicts the most prevalent class of the nearest images. It is used as a lower-bound to compare performances with the CNN models."
   ]
  },
  {
   "cell_type": "code",
   "execution_count": 1,
   "metadata": {},
   "outputs": [
    {
     "name": "stderr",
     "output_type": "stream",
     "text": [
      "Using TensorFlow backend.\n"
     ]
    }
   ],
   "source": [
    "from sklearn.metrics import classification_report, confusion_matrix, accuracy_score\n",
    "from keras.models import load_model\n",
    "from keras.utils import np_utils\n",
    "import numpy as np\n",
    "import pandas as pd\n",
    "import cv2\n",
    "import glob\n",
    "import os\n",
    "# To install the packages I created a conda environment with Miniconda3. \n",
    "# cv2 is tricky to install but (with the environment loaded) it can \n",
    "# easily be installed with the command: \n",
    "# conda install -c https://conda.binstar.org/menpo opencv\n",
    "\n",
    "''' Specify the paths to the data.\n",
    "'''\n",
    "train_dir = '../../../thesis/Testing/'\n",
    "\n",
    "\n",
    "''' Get image metadata\n",
    "\n",
    "These few lines of code parse the ImageDescription2.csv for information such as image ID, \n",
    "y-values and image names.\n",
    "'''\n",
    "meta = pd.read_csv(train_dir + 'ImageDescription2.csv')\n",
    "imgID = meta['image_id'].values\n",
    "y = pd.Series(meta['vis_class']).astype('category', categories=list('ABCD')).cat.codes\n",
    "basenames = meta['basename'].values\n",
    "\n",
    "\n",
    "''' Define helper functions.\n",
    "\n",
    "process_img() inputs a path to an image, for example /home/user/data/Meetterein_20161021_0750.jpg. It \n",
    "performs basic processing to the image: reading it as 3D matrix, resizing it to 3x299x299. 299 is the required \n",
    "as the neural network architecture is built on these dimensions.\n",
    "\n",
    "load_data() inputs the directory where the data is stored and the y values, for example /home/user/data/. \n",
    "It loads and processes all images in the directory, transposes the matrices to dimensions the network likes\n",
    "to work with (keras with tensorflow backend) and normalizes the images. Also, it one-hot encodes the y-values.\n",
    "\n",
    "hist_mor_error() evaluates the magnitude of the misclassifications. It compares the true MOR values of the images\n",
    "with the MOR limits of the predicted class. It outputs a histogram of these errors.\n",
    "'''\n",
    "def process_img(path):\n",
    "    return cv2.resize(cv2.imread(path), (img_width, img_height), interpolation=cv2.INTER_LINEAR)\n",
    "\n",
    "def load_data(data_dir, y):\n",
    "    X = [process_img(glob.glob(os.path.join(data_dir, basename))[0]) for basename in basenames]\n",
    "    X = np.array(X, dtype=np.uint8).transpose((0,1,2,3)).astype('float32') / 255\n",
    "    y = np_utils.to_categorical(np.array(y, dtype=np.uint8), 4)\n",
    "    return X, y\n",
    "\n",
    "def hist_mor_err():\n",
    "    %matplotlib inline\n",
    "    def mor_range(x):\n",
    "        mor = [(0, 250), (251, 1000), (1001, 3000), (3001, 50000)]\n",
    "        return mor[x]\n",
    "    def error(x):\n",
    "        return np.min([np.abs(x['mor_visibility'] - y['pred_morMin']), np.abs(x['mor_visibility'] - z['pred_morMax'])])\n",
    "    res = pd.DataFrame({'image_id':test_img_id, 'true':y_tr, 'pred':y_hat})\n",
    "    res = res.merge(meta[['image_id', 'mor_visibility']], on='image_id', how='left')\n",
    "    res['pred_morMin'] = res['pred'].apply(lambda x: mor_range(x)[0])\n",
    "    res['pred_morMax'] = res['pred'].apply(lambda x: mor_range(x)[1])\n",
    "    err = []\n",
    "    for row in res.values:\n",
    "        if row[3] < row[4]:\n",
    "            err.append(row[3] - row[4])\n",
    "        elif row[3] > row[5]:\n",
    "            err.append(row[3] - row[5])\n",
    "        else:\n",
    "            err.append(0)\n",
    "    res['mor_error'] = pd.Series(err)\n",
    "    res['diff'] = pd.Series(np.abs(np.array(res['pred']) - np.array(res['true'])))\n",
    "    res = res[['image_id', 'true', 'pred', 'diff', 'mor_visibility', 'pred_morMin', 'pred_morMax', 'mor_error']]\n",
    "    res[res['diff'] > 0]['mor_error'].hist(bins=50, figsize=(15, 7))\n",
    "\n",
    "''' Load images tailored for network input. \n",
    "'''\n",
    "img_width = img_height = 299\n",
    "X, y = load_data(train_dir, y)\n",
    "\n",
    "# split de bilt / cabauw\n",
    "X_cab, y_cab = X[813:], y[813:]\n",
    "X_bil, y_bil = X[:813], y[:813]"
   ]
  },
  {
   "cell_type": "markdown",
   "metadata": {},
   "source": [
    "## CNN Models\n",
    "\n",
    "The Inception v3 networks used for this task are pre-trained on the ImageNet dataset. This is useful as this dataset makes the network sensitive to vast amounts of features. For fog detection, the network with pre-trained weights are fine-tuned, to adjust the features to our dataset. \n",
    "\n",
    "The networks have been trained on different sites; One on De Bilt, one on Cabauw, and the other on both locations. The models are saved as .h5 files which contain both the architecture and the trained weights. The filename contains a number which refers to the time it took to fine-tune the model in seconds.\n",
    " \n",
    "The code below loads the network architecture + weights into memory, so that they can be used for evaluation."
   ]
  },
  {
   "cell_type": "code",
   "execution_count": 10,
   "metadata": {
    "collapsed": true
   },
   "outputs": [],
   "source": [
    "''' Below the trained models are loaded. The models are Inception v3 \n",
    "networks trained on different sites: the Bilt, Cabauw and both.\n",
    "'''\n",
    "\n",
    "bilt = load_model('../../../Desktop/models/cnn_trainBilt_9981.h5')\n",
    "cab = load_model('../../../Desktop/models/cnn_trainCabauw_6235.h5')\n",
    "both = load_model('../../../Desktop/models/cnn_trainBiltCabauw_14827.h5')"
   ]
  },
  {
   "cell_type": "markdown",
   "metadata": {},
   "source": [
    "## De Bilt trained CNN\n",
    "### Evaluate on De Bilt"
   ]
  },
  {
   "cell_type": "markdown",
   "metadata": {},
   "source": [
    "This block uses the De Bilt trained model to predict instances from De Bilt. There is no domain shift between the training set and the test set. Therefore, there is no generalisation and the result can be seen as an upper-bound performance for generalisation tests."
   ]
  },
  {
   "cell_type": "code",
   "execution_count": 13,
   "metadata": {},
   "outputs": [
    {
     "name": "stdout",
     "output_type": "stream",
     "text": [
      "Classification report:\n",
      "             precision    recall  f1-score   support\n",
      "\n",
      "          0       0.76      0.61      0.68        67\n",
      "          1       0.50      0.42      0.46        95\n",
      "          2       0.70      0.73      0.71       241\n",
      "          3       0.87      0.91      0.89       410\n",
      "\n",
      "avg / total       0.77      0.77      0.77       813\n",
      "\n",
      "\n",
      "Confusion matrix:\n",
      "[[ 41  18   7   1]\n",
      " [  9  40  36  10]\n",
      " [  3  19 176  43]\n",
      " [  1   3  34 372]]\n",
      "\n",
      "Accuracy:\n",
      "0.773677736777\n"
     ]
    }
   ],
   "source": [
    "predictions = bilt.predict(X_bil)\n",
    "y_hat = [np.argmax(p) for p in predictions]\n",
    "y_tr = [np.argmax(p) for p in y_bil]\n",
    "\n",
    "print('Classification report:')\n",
    "print(classification_report(y_pred=y_hat, y_true=y_tr))\n",
    "print('')\n",
    "print('Confusion matrix:')\n",
    "print(confusion_matrix(y_pred=y_hat, y_true=y_tr))\n",
    "print('')\n",
    "print('Accuracy:')\n",
    "print(accuracy_score(y_pred=y_hat, y_true=y_tr))"
   ]
  },
  {
   "cell_type": "code",
   "execution_count": 24,
   "metadata": {},
   "outputs": [
    {
     "data": {
      "image/png": "[encoded data removed]",
      "text/plain": [
       "<matplotlib.figure.Figure at 0x7f7de341f240>"
      ]
     },
     "metadata": {},
     "output_type": "display_data"
    }
   ],
   "source": [
    "test_img_id = meta.iloc[:813]['image_id']\n",
    "hist_mor_err()"
   ]
  },
  {
   "cell_type": "markdown",
   "metadata": {},
   "source": [
    "### Evaluate on Cabauw\n",
    "\n",
    "Below I test the generalisation performance of the model trained on De Bilt by evaluating its performance on the Cabauw test set."
   ]
  },
  {
   "cell_type": "code",
   "execution_count": 25,
   "metadata": {},
   "outputs": [
    {
     "name": "stdout",
     "output_type": "stream",
     "text": [
      "Classification report:\n",
      "             precision    recall  f1-score   support\n",
      "\n",
      "          0       0.50      0.02      0.03       111\n",
      "          1       0.24      0.04      0.07       162\n",
      "          2       0.33      0.93      0.49       247\n",
      "          3       0.64      0.11      0.19       256\n",
      "\n",
      "avg / total       0.44      0.35      0.24       776\n",
      "\n",
      "\n",
      "Confusion matrix:\n",
      "[[  2  12  96   1]\n",
      " [  2   7 150   3]\n",
      " [  0   5 230  12]\n",
      " [  0   5 222  29]]\n",
      "\n",
      "Accuracy:\n",
      "0.345360824742\n"
     ]
    }
   ],
   "source": [
    "predictions = bilt.predict(X_cab)\n",
    "y_hat = [np.argmax(p) for p in predictions]\n",
    "y_tr = [np.argmax(p) for p in y_cab]\n",
    "\n",
    "print('Classification report:')\n",
    "print(classification_report(y_pred=y_hat, y_true=y_tr))\n",
    "print('')\n",
    "print('Confusion matrix:')\n",
    "print(confusion_matrix(y_pred=y_hat, y_true=y_tr))\n",
    "print('')\n",
    "print('Accuracy:')\n",
    "print(accuracy_score(y_pred=y_hat, y_true=y_tr))"
   ]
  },
  {
   "cell_type": "code",
   "execution_count": 26,
   "metadata": {},
   "outputs": [
    {
     "data": {
      "image/png": "[encoded data removed]",
      "text/plain": [
       "<matplotlib.figure.Figure at 0x7f7ddeda3e48>"
      ]
     },
     "metadata": {},
     "output_type": "display_data"
    }
   ],
   "source": [
    "test_img_id = meta.iloc[813:]['image_id']\n",
    "hist_mor_err()"
   ]
  },
  {
   "cell_type": "markdown",
   "metadata": {},
   "source": [
    "As we can see the model does not generalize well if it is trained on De Bilt, but used to classify Cabauw instances. It seems to recognise a lot of Cabauw pictures as class B fog."
   ]
  },
  {
   "cell_type": "markdown",
   "metadata": {},
   "source": [
    "## Cabauw trained CNN\n",
    "### Evaluate on Cabauw\n",
    "\n",
    "The same evaluations are run for the Cabauw trained CNN"
   ]
  },
  {
   "cell_type": "code",
   "execution_count": 27,
   "metadata": {},
   "outputs": [
    {
     "name": "stdout",
     "output_type": "stream",
     "text": [
      "Classification report:\n",
      "             precision    recall  f1-score   support\n",
      "\n",
      "          0       0.78      0.83      0.80       111\n",
      "          1       0.82      0.62      0.70       162\n",
      "          2       0.82      0.86      0.84       247\n",
      "          3       0.85      0.92      0.88       256\n",
      "\n",
      "avg / total       0.82      0.82      0.82       776\n",
      "\n",
      "\n",
      "Confusion matrix:\n",
      "[[ 92  14   4   1]\n",
      " [ 26 100  23  13]\n",
      " [  0   6 213  28]\n",
      " [  0   2  19 235]]\n",
      "\n",
      "Accuracy:\n",
      "0.824742268041\n"
     ]
    }
   ],
   "source": [
    "predictions = cab.predict(X_cab)\n",
    "y_hat = [np.argmax(p) for p in predictions]\n",
    "y_tr = [np.argmax(p) for p in y_cab]\n",
    "\n",
    "print('Classification report:')\n",
    "print(classification_report(y_pred=y_hat, y_true=y_tr))\n",
    "print('')\n",
    "print('Confusion matrix:')\n",
    "print(confusion_matrix(y_pred=y_hat, y_true=y_tr))\n",
    "print('')\n",
    "print('Accuracy:')\n",
    "print(accuracy_score(y_pred=y_hat, y_true=y_tr))"
   ]
  },
  {
   "cell_type": "code",
   "execution_count": 28,
   "metadata": {},
   "outputs": [
    {
     "data": {
      "image/png": "[encoded data removed]",
      "text/plain": [
       "<matplotlib.figure.Figure at 0x7f7ddec15710>"
      ]
     },
     "metadata": {},
     "output_type": "display_data"
    }
   ],
   "source": [
    "test_img_id = meta.iloc[813:]['image_id']\n",
    "hist_mor_err()"
   ]
  },
  {
   "cell_type": "markdown",
   "metadata": {},
   "source": [
    "Interesting to see the Cabauw trained model performs better, as I found it easier as a human to estimate fog density on De Bilt dataset. The CNN seems to prefer Cabauw. However, the skew of the errors is less favourable: it tends to underestimate fog density, leading to more dangerous scenarios as when it would overestimate the fog density. Penalising underestimation in the loss function could be a solution to this problem."
   ]
  },
  {
   "cell_type": "markdown",
   "metadata": {},
   "source": [
    "### Evaluate on De Bilt"
   ]
  },
  {
   "cell_type": "code",
   "execution_count": 29,
   "metadata": {},
   "outputs": [
    {
     "name": "stdout",
     "output_type": "stream",
     "text": [
      "Classification report:\n",
      "             precision    recall  f1-score   support\n",
      "\n",
      "          0       1.00      0.01      0.03        67\n",
      "          1       0.15      0.13      0.14        95\n",
      "          2       0.25      0.04      0.06       241\n",
      "          3       0.54      0.91      0.68       410\n",
      "\n",
      "avg / total       0.45      0.49      0.38       813\n",
      "\n",
      "\n",
      "Confusion matrix:\n",
      "[[  1  32   6  28]\n",
      " [  0  12   7  76]\n",
      " [  0  15   9 217]\n",
      " [  0  22  14 374]]\n",
      "\n",
      "Accuracy:\n",
      "0.487084870849\n"
     ]
    }
   ],
   "source": [
    "predictions = cab.predict(X_bil)\n",
    "y_hat = [np.argmax(p) for p in predictions]\n",
    "y_tr = [np.argmax(p) for p in y_bil]\n",
    "\n",
    "print('Classification report:')\n",
    "print(classification_report(y_pred=y_hat, y_true=y_tr))\n",
    "print('')\n",
    "print('Confusion matrix:')\n",
    "print(confusion_matrix(y_pred=y_hat, y_true=y_tr))\n",
    "print('')\n",
    "print('Accuracy:')\n",
    "print(accuracy_score(y_pred=y_hat, y_true=y_tr))"
   ]
  },
  {
   "cell_type": "code",
   "execution_count": 30,
   "metadata": {},
   "outputs": [
    {
     "data": {
      "image/png": "[encoded data removed]",
      "text/plain": [
       "<matplotlib.figure.Figure at 0x7f7ddeb5dbe0>"
      ]
     },
     "metadata": {},
     "output_type": "display_data"
    }
   ],
   "source": [
    "test_img_id = meta.iloc[:813]['image_id']\n",
    "hist_mor_err()"
   ]
  },
  {
   "cell_type": "markdown",
   "metadata": {},
   "source": [
    "The model trained on Cabauw suffers from the same lazy classification in generalisation as the De Bilt trained model. This time, class D is the common prediction. The classification performance in generalisation is not up to useful levels."
   ]
  },
  {
   "cell_type": "markdown",
   "metadata": {},
   "source": [
    "## CNN trained on full trainset (De Bilt + Cabauw)\n",
    "\n",
    "Here I evaluate the performance of the network when it is trained on the full dataset, by predicting instances from the entire testset."
   ]
  },
  {
   "cell_type": "code",
   "execution_count": 31,
   "metadata": {},
   "outputs": [
    {
     "name": "stdout",
     "output_type": "stream",
     "text": [
      "Classification report:\n",
      "             precision    recall  f1-score   support\n",
      "\n",
      "          0       0.78      0.78      0.78       178\n",
      "          1       0.71      0.60      0.65       257\n",
      "          2       0.77      0.76      0.76       488\n",
      "          3       0.84      0.91      0.87       666\n",
      "\n",
      "avg / total       0.79      0.80      0.79      1589\n",
      "\n",
      "\n",
      "Confusion matrix:\n",
      "[[138  30   8   2]\n",
      " [ 32 153  48  24]\n",
      " [  6  27 370  85]\n",
      " [  1   7  55 603]]\n",
      "\n",
      "Accuracy:\n",
      "0.795468848332\n"
     ]
    }
   ],
   "source": [
    "predictions = both.predict(X)\n",
    "y_hat = [np.argmax(p) for p in predictions]\n",
    "y_tr = [np.argmax(p) for p in y]\n",
    "\n",
    "print('Classification report:')\n",
    "print(classification_report(y_pred=y_hat, y_true=y_tr))\n",
    "print('')\n",
    "print('Confusion matrix:')\n",
    "print(confusion_matrix(y_pred=y_hat, y_true=y_tr))\n",
    "print('')\n",
    "print('Accuracy:')\n",
    "print(accuracy_score(y_pred=y_hat, y_true=y_tr))"
   ]
  },
  {
   "cell_type": "code",
   "execution_count": 33,
   "metadata": {},
   "outputs": [
    {
     "data": {
      "image/png": "[encoded data removed]",
      "text/plain": [
       "<matplotlib.figure.Figure at 0x7f7ddea07898>"
      ]
     },
     "metadata": {},
     "output_type": "display_data"
    }
   ],
   "source": [
    "test_img_id = meta['image_id']\n",
    "hist_mor_err()"
   ]
  },
  {
   "cell_type": "markdown",
   "metadata": {},
   "source": [
    "## k-NN Algorithm Classification and Generalization Capacity\n",
    "\n",
    "This block evaluates the generalization capacity of an unsupervised and 'naive' algorithm to see if CNN improve upon its score. We need to load the data again as we need the trainset as well and I heavily blur the images to aid the k-NN algorithm."
   ]
  },
  {
   "cell_type": "code",
   "execution_count": 3,
   "metadata": {},
   "outputs": [],
   "source": [
    "import scipy.stats\n",
    "\n",
    "''' Specify the paths to the data.\n",
    "'''\n",
    "train_dir = '../data/Training/'\n",
    "test_dir = '../../../thesis/Testing/'\n",
    "\n",
    "''' Define helper functions.\n",
    "'''\n",
    "def process_img(path):\n",
    "    return cv2.blur(cv2.resize(cv2.imread(path), (img_width, img_height), interpolation=cv2.INTER_LINEAR), (15, 15))\n",
    "\n",
    "def load_data(data_dir):\n",
    "    \n",
    "    # get image metadata\n",
    "    meta = pd.read_csv(data_dir + 'ImageDescription2.csv')\n",
    "    imgID = meta['image_id'].values\n",
    "    y = pd.Series(meta['vis_class']).astype('category', categories=list('ABCD')).cat.codes\n",
    "    basenames = meta['basename'].values\n",
    "    \n",
    "    # preprocess images\n",
    "    X = [process_img(glob.glob(os.path.join(data_dir, basename))[0]) for basename in basenames]\n",
    "    X = np.array(X, dtype=np.uint8).astype('float32') / 255\n",
    "    y = np_utils.to_categorical(np.array(y, dtype=np.uint8), 4)\n",
    "    return X, y\n",
    "\n",
    "def knn(xtrain, ytrain, xtest, k):\n",
    "    res = []\n",
    "    for img in xtest:\n",
    "        dists = np.array([np.linalg.norm(img - train_img) for train_img in xtrain])\n",
    "        res.append(scipy.stats.mode(ytrain[np.argsort(dists)[:k]])[0][0])\n",
    "    return res\n",
    "\n",
    "''' Load images, I use 224 (a bit smaller than CNN)\n",
    "for limiting the computational complexity of the k-NN.\n",
    "'''\n",
    "img_width = img_height = 224\n",
    "\n",
    "X, y = load_data(train_dir)\n",
    "X_bil, y_bil = X[:2517], y[:2517]\n",
    "X_cab, y_cab = X[2517:], y[2517:]\n",
    "\n",
    "X_test, y_test = load_data(test_dir)\n",
    "X_test_bil, y_test_bil = X_test[:813], y_test[:813]\n",
    "X_test_cab, y_test_cab = X_test[813:], y_test[813:]"
   ]
  },
  {
   "cell_type": "markdown",
   "metadata": {},
   "source": [
    "## k-NN with De Bilt reference set\n",
    "\n",
    "### Evaluate on De Bilt"
   ]
  },
  {
   "cell_type": "code",
   "execution_count": 4,
   "metadata": {},
   "outputs": [
    {
     "name": "stdout",
     "output_type": "stream",
     "text": [
      "Classification report:\n",
      "             precision    recall  f1-score   support\n",
      "\n",
      "          0       0.25      0.87      0.39        67\n",
      "          1       0.63      0.18      0.28        95\n",
      "          2       0.64      0.56      0.60       241\n",
      "          3       0.89      0.75      0.81       410\n",
      "\n",
      "avg / total       0.73      0.64      0.65       813\n",
      "\n",
      "\n",
      "Confusion matrix:\n",
      "[[ 58   2   7   0]\n",
      " [ 47  17  22   9]\n",
      " [ 71   5 134  31]\n",
      " [ 54   3  45 308]]\n",
      "\n",
      "Accuracy:\n",
      "0.635916359164\n"
     ]
    }
   ],
   "source": [
    "y_hat = knn(X_bil, y_bil, X_test_bil, 15)\n",
    "\n",
    "preds = [np.argmax(y) for y in y_hat]\n",
    "trues = [np.argmax(y) for y in y_test_bil]\n",
    "\n",
    "print('Classification report:')\n",
    "print(classification_report(y_pred=preds, y_true=trues))\n",
    "print('')\n",
    "print('Confusion matrix:')\n",
    "print(confusion_matrix(y_pred=preds, y_true=trues))\n",
    "print('')\n",
    "print('Accuracy:')\n",
    "print(accuracy_score(y_pred=preds, y_true=trues))"
   ]
  },
  {
   "cell_type": "markdown",
   "metadata": {},
   "source": [
    "### Evaluate on Cabauw"
   ]
  },
  {
   "cell_type": "code",
   "execution_count": 5,
   "metadata": {},
   "outputs": [
    {
     "name": "stdout",
     "output_type": "stream",
     "text": [
      "Classification report:\n",
      "             precision    recall  f1-score   support\n",
      "\n",
      "          0       0.26      0.09      0.13       111\n",
      "          1       0.00      0.00      0.00       162\n",
      "          2       0.77      0.04      0.08       247\n",
      "          3       0.33      0.94      0.49       256\n",
      "\n",
      "avg / total       0.39      0.34      0.21       776\n",
      "\n",
      "\n",
      "Confusion matrix:\n",
      "[[ 10   0   0 101]\n",
      " [  4   0   1 157]\n",
      " [ 12   0  10 225]\n",
      " [ 13   0   2 241]]\n",
      "\n",
      "Accuracy:\n",
      "0.336340206186\n"
     ]
    },
    {
     "name": "stderr",
     "output_type": "stream",
     "text": [
      "/home/daniel/miniconda3/envs/three/lib/python3.5/site-packages/sklearn/metrics/classification.py:1113: UndefinedMetricWarning: Precision and F-score are ill-defined and being set to 0.0 in labels with no predicted samples.\n",
      "  'precision', 'predicted', average, warn_for)\n"
     ]
    }
   ],
   "source": [
    "y_hat = knn(X_bil, y_bil, X_test_cab, 15)\n",
    "\n",
    "preds = [np.argmax(y) for y in y_hat]\n",
    "trues = [np.argmax(y) for y in y_test_cab]\n",
    "\n",
    "print('Classification report:')\n",
    "print(classification_report(y_pred=preds, y_true=trues))\n",
    "print('')\n",
    "print('Confusion matrix:')\n",
    "print(confusion_matrix(y_pred=preds, y_true=trues))\n",
    "print('')\n",
    "print('Accuracy:')\n",
    "print(accuracy_score(y_pred=preds, y_true=trues))"
   ]
  },
  {
   "cell_type": "markdown",
   "metadata": {},
   "source": [
    "## k-NN with Cabauw reference set\n",
    "\n",
    "### Evaluate on Cabauw"
   ]
  },
  {
   "cell_type": "code",
   "execution_count": 6,
   "metadata": {},
   "outputs": [
    {
     "name": "stdout",
     "output_type": "stream",
     "text": [
      "Classification report:\n",
      "             precision    recall  f1-score   support\n",
      "\n",
      "          0       0.63      0.86      0.73       111\n",
      "          1       0.84      0.57      0.68       162\n",
      "          2       0.76      0.83      0.79       247\n",
      "          3       0.83      0.79      0.81       256\n",
      "\n",
      "avg / total       0.78      0.77      0.77       776\n",
      "\n",
      "\n",
      "Confusion matrix:\n",
      "[[ 96  11   4   0]\n",
      " [ 37  92  23  10]\n",
      " [  6   3 205  33]\n",
      " [ 13   3  37 203]]\n",
      "\n",
      "Accuracy:\n",
      "0.768041237113\n"
     ]
    }
   ],
   "source": [
    "y_hat = knn(X_cab, y_cab, X_test_cab, 15)\n",
    "\n",
    "preds = [np.argmax(y) for y in y_hat]\n",
    "trues = [np.argmax(y) for y in y_test_cab]\n",
    "\n",
    "print('Classification report:')\n",
    "print(classification_report(y_pred=preds, y_true=trues))\n",
    "print('')\n",
    "print('Confusion matrix:')\n",
    "print(confusion_matrix(y_pred=preds, y_true=trues))\n",
    "print('')\n",
    "print('Accuracy:')\n",
    "print(accuracy_score(y_pred=preds, y_true=trues))"
   ]
  },
  {
   "cell_type": "markdown",
   "metadata": {},
   "source": [
    "### Evaluate on De Bilt"
   ]
  },
  {
   "cell_type": "code",
   "execution_count": 7,
   "metadata": {},
   "outputs": [
    {
     "name": "stdout",
     "output_type": "stream",
     "text": [
      "Classification report:\n",
      "             precision    recall  f1-score   support\n",
      "\n",
      "          0       0.08      1.00      0.16        67\n",
      "          1       0.00      0.00      0.00        95\n",
      "          2       0.13      0.01      0.02       241\n",
      "          3       0.00      0.00      0.00       410\n",
      "\n",
      "avg / total       0.05      0.08      0.02       813\n",
      "\n",
      "\n",
      "Confusion matrix:\n",
      "[[ 67   0   0   0]\n",
      " [ 95   0   0   0]\n",
      " [237   2   2   0]\n",
      " [396   1  13   0]]\n",
      "\n",
      "Accuracy:\n",
      "0.0848708487085\n"
     ]
    },
    {
     "name": "stderr",
     "output_type": "stream",
     "text": [
      "/home/daniel/miniconda3/envs/three/lib/python3.5/site-packages/sklearn/metrics/classification.py:1113: UndefinedMetricWarning: Precision and F-score are ill-defined and being set to 0.0 in labels with no predicted samples.\n",
      "  'precision', 'predicted', average, warn_for)\n"
     ]
    }
   ],
   "source": [
    "y_hat = knn(X_cab, y_cab, X_test_bil, 15)\n",
    "\n",
    "preds = [np.argmax(y) for y in y_hat]\n",
    "trues = [np.argmax(y) for y in y_test_bil]\n",
    "\n",
    "print('Classification report:')\n",
    "print(classification_report(y_pred=preds, y_true=trues))\n",
    "print('')\n",
    "print('Confusion matrix:')\n",
    "print(confusion_matrix(y_pred=preds, y_true=trues))\n",
    "print('')\n",
    "print('Accuracy:')\n",
    "print(accuracy_score(y_pred=preds, y_true=trues))"
   ]
  },
  {
   "cell_type": "markdown",
   "metadata": {},
   "source": [
    "## k-NN with entire trainset as reference\n",
    "\n",
    "### Evaluate on entire testset"
   ]
  },
  {
   "cell_type": "code",
   "execution_count": 8,
   "metadata": {},
   "outputs": [
    {
     "name": "stdout",
     "output_type": "stream",
     "text": [
      "Classification report:\n",
      "             precision    recall  f1-score   support\n",
      "\n",
      "          0       0.40      0.87      0.55       178\n",
      "          1       0.80      0.42      0.55       257\n",
      "          2       0.71      0.69      0.70       488\n",
      "          3       0.86      0.77      0.81       666\n",
      "\n",
      "avg / total       0.75      0.70      0.71      1589\n",
      "\n",
      "\n",
      "Confusion matrix:\n",
      "[[154  13  11   0]\n",
      " [ 84 109  45  19]\n",
      " [ 77   8 339  64]\n",
      " [ 67   6  82 511]]\n",
      "\n",
      "Accuracy:\n",
      "0.700440528634\n"
     ]
    }
   ],
   "source": [
    "y_hat = knn(X, y, X_test, 15)\n",
    "\n",
    "preds = [np.argmax(y) for y in y_hat]\n",
    "trues = [np.argmax(y) for y in y_test]\n",
    "\n",
    "print('Classification report:')\n",
    "print(classification_report(y_pred=preds, y_true=trues))\n",
    "print('')\n",
    "print('Confusion matrix:')\n",
    "print(confusion_matrix(y_pred=preds, y_true=trues))\n",
    "print('')\n",
    "print('Accuracy:')\n",
    "print(accuracy_score(y_pred=preds, y_true=trues))"
   ]
  },
  {
   "cell_type": "markdown",
   "metadata": {},
   "source": [
    "While it seems that k-NN can work quite well without domain shift (especially for these datasets, where the camera is fixed and generally the pixels are the same across the images), the CNN tend to outperform them. The error distribution (as can be seen from the confusion matrices) indicate that the errors made are a bit more haphazard than those made by the CNN. Moreover, k-NN is not suitable for generalization, as the metrics indicate poor performance."
   ]
  }
 ],
 "metadata": {
  "kernelspec": {
   "display_name": "Python 3",
   "language": "python",
   "name": "python3"
  },
  "language_info": {
   "codemirror_mode": {
    "name": "ipython",
    "version": 3
   },
   "file_extension": ".py",
   "mimetype": "text/x-python",
   "name": "python",
   "nbconvert_exporter": "python",
   "pygments_lexer": "ipython3",
   "version": "3.5.3"
  }
 },
 "nbformat": 4,
 "nbformat_minor": 2
}
